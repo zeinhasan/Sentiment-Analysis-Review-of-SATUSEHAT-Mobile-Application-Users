{
 "cells": [
  {
   "cell_type": "markdown",
   "metadata": {},
   "source": [
    "# Library"
   ]
  },
  {
   "cell_type": "code",
   "execution_count": 1,
   "metadata": {},
   "outputs": [
    {
     "name": "stdout",
     "output_type": "stream",
     "text": [
      "Note: you may need to restart the kernel to use updated packages.Collecting google_play_scraper\n",
      "  Downloading google_play_scraper-1.2.4-py3-none-any.whl (28 kB)\n",
      "Installing collected packages: google_play_scraper\n",
      "Successfully installed google_play_scraper-1.2.4\n",
      "\n"
     ]
    },
    {
     "name": "stderr",
     "output_type": "stream",
     "text": [
      "WARNING: Ignoring invalid distribution -rotobuf (c:\\users\\hasan\\anaconda3\\envs\\tensorflow_gpu_zein\\lib\\site-packages)\n",
      "WARNING: Ignoring invalid distribution -rotobuf (c:\\users\\hasan\\anaconda3\\envs\\tensorflow_gpu_zein\\lib\\site-packages)\n",
      "WARNING: Ignoring invalid distribution -rotobuf (c:\\users\\hasan\\anaconda3\\envs\\tensorflow_gpu_zein\\lib\\site-packages)\n",
      "WARNING: Ignoring invalid distribution -rotobuf (c:\\users\\hasan\\anaconda3\\envs\\tensorflow_gpu_zein\\lib\\site-packages)\n",
      "WARNING: Ignoring invalid distribution -rotobuf (c:\\users\\hasan\\anaconda3\\envs\\tensorflow_gpu_zein\\lib\\site-packages)\n",
      "WARNING: Ignoring invalid distribution -rotobuf (c:\\users\\hasan\\anaconda3\\envs\\tensorflow_gpu_zein\\lib\\site-packages)\n",
      "WARNING: Ignoring invalid distribution -rotobuf (c:\\users\\hasan\\anaconda3\\envs\\tensorflow_gpu_zein\\lib\\site-packages)\n"
     ]
    }
   ],
   "source": [
    "pip install google_play_scraper"
   ]
  },
  {
   "cell_type": "code",
   "execution_count": 2,
   "metadata": {},
   "outputs": [],
   "source": [
    "# Call the library\n",
    "from google_play_scraper import app, Sort, reviews\n",
    "import pandas as pd\n",
    "import numpy as np"
   ]
  },
  {
   "cell_type": "markdown",
   "metadata": {},
   "source": [
    "# Scrapping "
   ]
  },
  {
   "cell_type": "code",
   "execution_count": 3,
   "metadata": {},
   "outputs": [],
   "source": [
    "#Scrape desired number of reviews\n",
    "result, continuation_token = reviews(\n",
    "    'com.telkom.tracencare',\n",
    "    lang='id', # defaults to 'en'\n",
    "    country='id', # defaults to 'us'\n",
    "    sort=Sort.NEWEST, # defaults to Sort.MOST_RELEVANT you can use Sort.NEWEST to get newst reviews\n",
    "    count=3000, # defaults to 100\n",
    "    filter_score_with=None # defaults to None(means all score) Use 1 or 2 or 3 or 4 or 5 to select certain score\n",
    ")"
   ]
  },
  {
   "cell_type": "markdown",
   "metadata": {},
   "source": [
    "# Store to Data Frame"
   ]
  },
  {
   "cell_type": "code",
   "execution_count": 4,
   "metadata": {},
   "outputs": [
    {
     "data": {
      "text/html": [
       "<div>\n",
       "<style scoped>\n",
       "    .dataframe tbody tr th:only-of-type {\n",
       "        vertical-align: middle;\n",
       "    }\n",
       "\n",
       "    .dataframe tbody tr th {\n",
       "        vertical-align: top;\n",
       "    }\n",
       "\n",
       "    .dataframe thead th {\n",
       "        text-align: right;\n",
       "    }\n",
       "</style>\n",
       "<table border=\"1\" class=\"dataframe\">\n",
       "  <thead>\n",
       "    <tr style=\"text-align: right;\">\n",
       "      <th></th>\n",
       "      <th>reviewId</th>\n",
       "      <th>userName</th>\n",
       "      <th>userImage</th>\n",
       "      <th>content</th>\n",
       "      <th>score</th>\n",
       "      <th>thumbsUpCount</th>\n",
       "      <th>reviewCreatedVersion</th>\n",
       "      <th>at</th>\n",
       "      <th>replyContent</th>\n",
       "      <th>repliedAt</th>\n",
       "      <th>appVersion</th>\n",
       "    </tr>\n",
       "  </thead>\n",
       "  <tbody>\n",
       "    <tr>\n",
       "      <th>0</th>\n",
       "      <td>c4dd2139-8c8e-477c-a28e-36b491af1128</td>\n",
       "      <td>tomi dedi</td>\n",
       "      <td>https://play-lh.googleusercontent.com/a-/AD_cM...</td>\n",
       "      <td>masih bagus waktu pedulilindungi,,di perbaharu...</td>\n",
       "      <td>2</td>\n",
       "      <td>0</td>\n",
       "      <td>None</td>\n",
       "      <td>2023-09-02 00:27:07</td>\n",
       "      <td>None</td>\n",
       "      <td>NaT</td>\n",
       "      <td>None</td>\n",
       "    </tr>\n",
       "    <tr>\n",
       "      <th>1</th>\n",
       "      <td>96c829b8-c1ab-4461-ba51-33c633426d9d</td>\n",
       "      <td>Muhammad Yusuf</td>\n",
       "      <td>https://play-lh.googleusercontent.com/a-/AD_cM...</td>\n",
       "      <td>Yaelaaahh aplikasi gini amat 🤦‍♂️😔 ngajak ribu...</td>\n",
       "      <td>1</td>\n",
       "      <td>0</td>\n",
       "      <td>None</td>\n",
       "      <td>2023-09-01 23:46:37</td>\n",
       "      <td>None</td>\n",
       "      <td>NaT</td>\n",
       "      <td>None</td>\n",
       "    </tr>\n",
       "    <tr>\n",
       "      <th>2</th>\n",
       "      <td>60521840-f807-4e2b-8ff0-fc94ff744e88</td>\n",
       "      <td>Wahyu Budi prasetyo</td>\n",
       "      <td>https://play-lh.googleusercontent.com/a/AAcHTt...</td>\n",
       "      <td>Sangat membantu</td>\n",
       "      <td>5</td>\n",
       "      <td>0</td>\n",
       "      <td>None</td>\n",
       "      <td>2023-09-01 23:44:13</td>\n",
       "      <td>None</td>\n",
       "      <td>NaT</td>\n",
       "      <td>None</td>\n",
       "    </tr>\n",
       "    <tr>\n",
       "      <th>3</th>\n",
       "      <td>26855760-998b-4b5c-aece-30788878fa08</td>\n",
       "      <td>Defanda Ramadhani</td>\n",
       "      <td>https://play-lh.googleusercontent.com/a-/AD_cM...</td>\n",
       "      <td>Unduh sertif vaksin gagal terus, dicoba tiap h...</td>\n",
       "      <td>2</td>\n",
       "      <td>0</td>\n",
       "      <td>5.9.0</td>\n",
       "      <td>2023-09-01 22:35:23</td>\n",
       "      <td>None</td>\n",
       "      <td>NaT</td>\n",
       "      <td>5.9.0</td>\n",
       "    </tr>\n",
       "    <tr>\n",
       "      <th>4</th>\n",
       "      <td>dd9ec1e9-f0d5-4bd1-8d85-0659f21298cb</td>\n",
       "      <td>Steve Lie</td>\n",
       "      <td>https://play-lh.googleusercontent.com/a-/AD_cM...</td>\n",
       "      <td>Applikasi mau masuk aja ga bisa padahal OTP be...</td>\n",
       "      <td>1</td>\n",
       "      <td>0</td>\n",
       "      <td>4.4</td>\n",
       "      <td>2023-09-01 20:13:14</td>\n",
       "      <td>None</td>\n",
       "      <td>NaT</td>\n",
       "      <td>4.4</td>\n",
       "    </tr>\n",
       "  </tbody>\n",
       "</table>\n",
       "</div>"
      ],
      "text/plain": [
       "                               reviewId             userName  \\\n",
       "0  c4dd2139-8c8e-477c-a28e-36b491af1128            tomi dedi   \n",
       "1  96c829b8-c1ab-4461-ba51-33c633426d9d       Muhammad Yusuf   \n",
       "2  60521840-f807-4e2b-8ff0-fc94ff744e88  Wahyu Budi prasetyo   \n",
       "3  26855760-998b-4b5c-aece-30788878fa08    Defanda Ramadhani   \n",
       "4  dd9ec1e9-f0d5-4bd1-8d85-0659f21298cb            Steve Lie   \n",
       "\n",
       "                                           userImage  \\\n",
       "0  https://play-lh.googleusercontent.com/a-/AD_cM...   \n",
       "1  https://play-lh.googleusercontent.com/a-/AD_cM...   \n",
       "2  https://play-lh.googleusercontent.com/a/AAcHTt...   \n",
       "3  https://play-lh.googleusercontent.com/a-/AD_cM...   \n",
       "4  https://play-lh.googleusercontent.com/a-/AD_cM...   \n",
       "\n",
       "                                             content  score  thumbsUpCount  \\\n",
       "0  masih bagus waktu pedulilindungi,,di perbaharu...      2              0   \n",
       "1  Yaelaaahh aplikasi gini amat 🤦‍♂️😔 ngajak ribu...      1              0   \n",
       "2                                    Sangat membantu      5              0   \n",
       "3  Unduh sertif vaksin gagal terus, dicoba tiap h...      2              0   \n",
       "4  Applikasi mau masuk aja ga bisa padahal OTP be...      1              0   \n",
       "\n",
       "  reviewCreatedVersion                  at replyContent repliedAt appVersion  \n",
       "0                 None 2023-09-02 00:27:07         None       NaT       None  \n",
       "1                 None 2023-09-01 23:46:37         None       NaT       None  \n",
       "2                 None 2023-09-01 23:44:13         None       NaT       None  \n",
       "3                5.9.0 2023-09-01 22:35:23         None       NaT      5.9.0  \n",
       "4                  4.4 2023-09-01 20:13:14         None       NaT        4.4  "
      ]
     },
     "execution_count": 4,
     "metadata": {},
     "output_type": "execute_result"
    }
   ],
   "source": [
    "# Convert to dataframe\n",
    "df_data = pd.DataFrame(np.array(result),columns=['review'])\n",
    "df_data = df_data.join(pd.DataFrame(df_data.pop('review').tolist()))\n",
    "df_data.head()"
   ]
  },
  {
   "cell_type": "code",
   "execution_count": 5,
   "metadata": {},
   "outputs": [
    {
     "data": {
      "text/html": [
       "<div>\n",
       "<style scoped>\n",
       "    .dataframe tbody tr th:only-of-type {\n",
       "        vertical-align: middle;\n",
       "    }\n",
       "\n",
       "    .dataframe tbody tr th {\n",
       "        vertical-align: top;\n",
       "    }\n",
       "\n",
       "    .dataframe thead th {\n",
       "        text-align: right;\n",
       "    }\n",
       "</style>\n",
       "<table border=\"1\" class=\"dataframe\">\n",
       "  <thead>\n",
       "    <tr style=\"text-align: right;\">\n",
       "      <th></th>\n",
       "      <th>userName</th>\n",
       "      <th>score</th>\n",
       "      <th>at</th>\n",
       "      <th>content</th>\n",
       "    </tr>\n",
       "  </thead>\n",
       "  <tbody>\n",
       "    <tr>\n",
       "      <th>0</th>\n",
       "      <td>tomi dedi</td>\n",
       "      <td>2</td>\n",
       "      <td>2023-09-02 00:27:07</td>\n",
       "      <td>masih bagus waktu pedulilindungi,,di perbaharu...</td>\n",
       "    </tr>\n",
       "    <tr>\n",
       "      <th>1</th>\n",
       "      <td>Muhammad Yusuf</td>\n",
       "      <td>1</td>\n",
       "      <td>2023-09-01 23:46:37</td>\n",
       "      <td>Yaelaaahh aplikasi gini amat 🤦‍♂️😔 ngajak ribu...</td>\n",
       "    </tr>\n",
       "    <tr>\n",
       "      <th>2</th>\n",
       "      <td>Wahyu Budi prasetyo</td>\n",
       "      <td>5</td>\n",
       "      <td>2023-09-01 23:44:13</td>\n",
       "      <td>Sangat membantu</td>\n",
       "    </tr>\n",
       "    <tr>\n",
       "      <th>3</th>\n",
       "      <td>Defanda Ramadhani</td>\n",
       "      <td>2</td>\n",
       "      <td>2023-09-01 22:35:23</td>\n",
       "      <td>Unduh sertif vaksin gagal terus, dicoba tiap h...</td>\n",
       "    </tr>\n",
       "    <tr>\n",
       "      <th>4</th>\n",
       "      <td>Steve Lie</td>\n",
       "      <td>1</td>\n",
       "      <td>2023-09-01 20:13:14</td>\n",
       "      <td>Applikasi mau masuk aja ga bisa padahal OTP be...</td>\n",
       "    </tr>\n",
       "  </tbody>\n",
       "</table>\n",
       "</div>"
      ],
      "text/plain": [
       "              userName  score                  at  \\\n",
       "0            tomi dedi      2 2023-09-02 00:27:07   \n",
       "1       Muhammad Yusuf      1 2023-09-01 23:46:37   \n",
       "2  Wahyu Budi prasetyo      5 2023-09-01 23:44:13   \n",
       "3    Defanda Ramadhani      2 2023-09-01 22:35:23   \n",
       "4            Steve Lie      1 2023-09-01 20:13:14   \n",
       "\n",
       "                                             content  \n",
       "0  masih bagus waktu pedulilindungi,,di perbaharu...  \n",
       "1  Yaelaaahh aplikasi gini amat 🤦‍♂️😔 ngajak ribu...  \n",
       "2                                    Sangat membantu  \n",
       "3  Unduh sertif vaksin gagal terus, dicoba tiap h...  \n",
       "4  Applikasi mau masuk aja ga bisa padahal OTP be...  "
      ]
     },
     "execution_count": 5,
     "metadata": {},
     "output_type": "execute_result"
    }
   ],
   "source": [
    "#Get userName, rating, date-time, and reviews only\n",
    "my_df = df_data[['userName', 'score','at', 'content']]\n",
    "my_df.head()"
   ]
  },
  {
   "cell_type": "code",
   "execution_count": 6,
   "metadata": {},
   "outputs": [
    {
     "data": {
      "text/plain": [
       "(3000, 4)"
      ]
     },
     "execution_count": 6,
     "metadata": {},
     "output_type": "execute_result"
    }
   ],
   "source": [
    "# Check the shape\n",
    "my_df.shape"
   ]
  },
  {
   "cell_type": "code",
   "execution_count": 7,
   "metadata": {},
   "outputs": [],
   "source": [
    "# Save to csv\n",
    "my_df.to_csv('Scrape Data.csv', index=False)"
   ]
  }
 ],
 "metadata": {
  "kernelspec": {
   "display_name": "tensorflow_gpu_zein",
   "language": "python",
   "name": "python3"
  },
  "language_info": {
   "codemirror_mode": {
    "name": "ipython",
    "version": 3
   },
   "file_extension": ".py",
   "mimetype": "text/x-python",
   "name": "python",
   "nbconvert_exporter": "python",
   "pygments_lexer": "ipython3",
   "version": "3.10.0"
  },
  "orig_nbformat": 4
 },
 "nbformat": 4,
 "nbformat_minor": 2
}
